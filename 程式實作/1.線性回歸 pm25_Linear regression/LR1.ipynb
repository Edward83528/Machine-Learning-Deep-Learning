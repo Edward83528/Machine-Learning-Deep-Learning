{
 "cells": [
  {
   "cell_type": "code",
   "execution_count": null,
   "metadata": {},
   "outputs": [],
   "source": [
    "##線性回歸網路範例2"
   ]
  },
  {
   "cell_type": "code",
   "execution_count": null,
   "metadata": {},
   "outputs": [],
   "source": [
    "#進行數據分析之前常要引用的函式庫\n",
    "%matplotlib inline\n",
    "import numpy as np\n",
    "import matplotlib.pyplot as plt\n",
    "\n",
    "#開發互動功能要引用的函式庫\n",
    "from ipywidgets import interact\n",
    "from ipywidgets import interact_manual\n",
    "\n",
    "#熊貓是python的excel\n",
    "import pandas as pd\n",
    "\n",
    "#先重複同樣6.4課程的動作，模擬出假數據\n",
    "x = np.linspace(0,5,50)\n",
    "y = 1.2 * x + 0.8 + 0.6 * np.random.randn(50)\n",
    "\n",
    "#然後畫圖確認一下假數據沒錯！\n",
    "plt.scatter(x,y)\n",
    "plt.plot(x,1.2 * x + 0.8,'r')\n",
    "\n",
    "#將線性回歸的函式庫載入，準備要執行線性回歸\n",
    "from sklearn.linear_model import LinearRegression\n",
    "\n",
    "#首先開一台線性回歸機\n",
    "regr = LinearRegression()\n",
    "\n",
    "#目前x array是1x50的矩陣\n",
    "#但是要做線性回歸計算的話，需改成 50x1 array\n",
    "x\n",
    "\n",
    "#將X設定為50x1的矩陣\n",
    "X = x.reshape(50,1)\n",
    "\n",
    "#經確認的確是50x1 array\n",
    "X\n",
    "\n",
    "#透過LinearRegression.fit()去進行機器學習\n",
    "#參數餵給他修正過後的X以及正確答案y\n",
    "regr.fit(X,y)\n",
    "\n",
    "#取出機器學習的結果LinearRegression.predict\n",
    "#注意這裡傳入的參數是修正過的X\n",
    "Y = regr.predict(X)\n",
    "\n",
    "#最後就可以來檢查是否機器學習出來的曲線是否跟原本的曲線接近\n",
    "plt.scatter(x,y)\n",
    "plt.plot(x,1.2 * x + 0.8,'r')\n",
    "plt.plot(x,Y,'g')\n",
    "#說實在綠色線跟紅色線還蠻接近的！成功！"
   ]
  }
 ],
 "metadata": {
  "kernelspec": {
   "display_name": "Python 3",
   "language": "python",
   "name": "python3"
  },
  "language_info": {
   "codemirror_mode": {
    "name": "ipython",
    "version": 3
   },
   "file_extension": ".py",
   "mimetype": "text/x-python",
   "name": "python",
   "nbconvert_exporter": "python",
   "pygments_lexer": "ipython3",
   "version": "3.7.3"
  }
 },
 "nbformat": 4,
 "nbformat_minor": 2
}
