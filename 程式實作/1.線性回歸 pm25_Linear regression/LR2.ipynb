{
 "cells": [
  {
   "cell_type": "markdown",
   "metadata": {},
   "source": [
    "## 線性回歸網路範例1"
   ]
  },
  {
   "cell_type": "code",
   "execution_count": null,
   "metadata": {},
   "outputs": [],
   "source": [
    "import numpy as np # 快速操作結構陣列的工具\n",
    "import matplotlib.pyplot as plt  # 視覺化繪製\n",
    "from sklearn.linear_model import LinearRegression  # 線性迴歸\n",
    "# 樣本資料集，第一列為x，第二列為y，在x和y之間建立迴歸模型\n",
    "data=[\n",
    "[0.067732,3.176513],[0.427810,3.816464],[0.995731,4.550095],[0.738336,4.256571],[0.981083,4.560815],\n",
    "[0.526171,3.929515],[0.378887,3.526170],[0.033859,3.156393],[0.132791,3.110301],[0.138306,3.149813],\n",
    "[0.247809,3.476346],[0.648270,4.119688],[0.731209,4.282233],[0.236833,3.486582],[0.969788,4.655492],\n",
    "[0.607492,3.965162],[0.358622,3.514900],[0.147846,3.125947],[0.637820,4.094115],[0.230372,3.476039],\n",
    "[0.070237,3.210610],[0.067154,3.190612],[0.925577,4.631504],[0.717733,4.295890],[0.015371,3.085028],\n",
    "[0.335070,3.448080],[0.040486,3.167440],[0.212575,3.364266],[0.617218,3.993482],[0.541196,3.891471]\n",
    "]\n",
    "#生成X和y矩陣\n",
    "dataMat = np.array(data)\n",
    "X = dataMat[:,0:1]   # 變數x\n",
    "y = dataMat[:,1]   #變數y\n",
    "# ========線性迴歸========\n",
    "model = LinearRegression(copy_X=True, fit_intercept=True, n_jobs=1, normalize=False)\n",
    "model.fit(X, y)   # 線性迴歸建模\n",
    "print('係數矩陣:\\n',model.coef_)\n",
    "print('線性迴歸模型:\\n',model)\n",
    "# 使用模型預測\n",
    "predicted = model.predict(X)\n",
    "# 繪製散點圖 引數：x橫軸 y縱軸\n",
    "plt.scatter(X, y, marker='x')\n",
    "plt.plot(X, predicted,c='r')\n",
    "# 繪製x軸和y軸座標\n",
    "plt.xlabel(\"x\")\n",
    "plt.ylabel(\"y\")\n",
    "# 顯示圖形\n",
    "plt.show"
   ]
  },
  {
   "cell_type": "code",
   "execution_count": null,
   "metadata": {},
   "outputs": [],
   "source": []
  }
 ],
 "metadata": {
  "kernelspec": {
   "display_name": "Python 3",
   "language": "python",
   "name": "python3"
  },
  "language_info": {
   "codemirror_mode": {
    "name": "ipython",
    "version": 3
   },
   "file_extension": ".py",
   "mimetype": "text/x-python",
   "name": "python",
   "nbconvert_exporter": "python",
   "pygments_lexer": "ipython3",
   "version": "3.7.3"
  }
 },
 "nbformat": 4,
 "nbformat_minor": 2
}
