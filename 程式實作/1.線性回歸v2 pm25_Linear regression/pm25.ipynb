{
 "cells": [
  {
   "cell_type": "markdown",
   "metadata": {},
   "source": [
    "# Topic: 線性回歸(PM2.5) :Linear Regression on pm2.5 "
   ]
  },
  {
   "cell_type": "markdown",
   "metadata": {},
   "source": [
    "## Step 1 得到資料: Get Data"
   ]
  },
  {
   "cell_type": "code",
   "execution_count": 1,
   "metadata": {
    "collapsed": true
   },
   "outputs": [],
   "source": [
    "#載入所需套件\n",
    "import pandas as pd#熊貓是python的excel\n",
    "import matplotlib.pyplot as plt# 視覺化繪製\n",
    "#我們的開發環境是 Jupyter Notebook，這個指令可以讓圖形不會在新視窗呈現。\n",
    "%matplotlib inline\n",
    "\n",
    "#讀入csv文字檔\n",
    "data=pd.read_csv('training_good.csv')\n",
    "data2=pd.read_csv('training_bad.csv')\n",
    "test=pd.read_csv(\"testing.csv\")\n",
    "\n",
    "'''\n",
    "print(type(data.head(10)))#<class 'pandas.core.frame.DataFrame'>\n",
    "print(data.columns)#Index(['x', 'y'], dtype='object')\n",
    "print(data.info)#<bound method DataFrame.info of       x     y\n",
    "print(data.describe)#<bound method NDFrame.describe of       x     y\n",
    "data.head(10)\n",
    "plt.plot(data.x,data.y)#繪製\n",
    "print(data2)\n",
    "'''\n",
    "#只擷取需要的x和y欄位\n",
    "data=data[['x','y']]\n",
    "data2=data2[['x','y']]\n",
    "#print(data.head())"
   ]
  },
  {
   "cell_type": "markdown",
   "metadata": {},
   "source": [
    "## Step 2 處理資料: Prepare X, Y(目標格式: ndarray (n,1))"
   ]
  },
  {
   "cell_type": "code",
   "execution_count": 2,
   "metadata": {
    "collapsed": true
   },
   "outputs": [],
   "source": [
    "#2d array剝皮68個數變nd array,排向量\n",
    "x=data.x.values.reshape(-1,1)\n",
    "y=data.y.values.reshape(-1,1)\n",
    "\n",
    "'''\n",
    "print(data.x.values,type(data.x.values))#<class 'numpy.ndarray'>\n",
    "print(data.x.values.reshape(-1,1),type(data.x.values.reshape(-1,1)))#<class 'numpy.ndarray'>\n",
    "'''\n",
    "#2d array剝皮68個數變nd array,排向量\n",
    "x2=data2.x.values.reshape(-1,1)\n",
    "y2=data2.y.values.reshape(-1,1)\n",
    "#print(type(x2),x2.shape)#<class 'numpy.ndarray'> (68, 1)\n",
    "\n",
    "#要預測的只有x沒有y\n",
    "testx = test['x'].values.reshape(-1,1)"
   ]
  },
  {
   "cell_type": "markdown",
   "metadata": {},
   "source": [
    "## Step 3 建立線性迴歸分析模型:  Model training"
   ]
  },
  {
   "cell_type": "code",
   "execution_count": 3,
   "metadata": {
    "collapsed": true
   },
   "outputs": [
    {
     "data": {
      "text/plain": [
       "LinearRegression(copy_X=True, fit_intercept=True, n_jobs=None,\n",
       "         normalize=False)"
      ]
     },
     "execution_count": 3,
     "metadata": {},
     "output_type": "execute_result"
    }
   ],
   "source": [
    "#Python 機器學習套件 scikit-learn\n",
    "#使用 sklearn.linear_model 的 LinearRegression() 線性迴歸方法\n",
    "from sklearn.linear_model import LinearRegression as LR  # 線性迴歸\n",
    "from sklearn.metrics import r2_score\n",
    "from sklearn.metrics import mean_squared_error\n",
    "\n",
    "#模型初始化\n",
    "model=LR()\n",
    "\n",
    "#訓練用fit\n",
    "model.fit(x,y)\n",
    "\n",
    "#模型初始化\n",
    "model2=LR()\n",
    "\n",
    "#訓練用fit\n",
    "model2.fit(x2,y2)\n",
    "\n"
   ]
  },
  {
   "cell_type": "markdown",
   "metadata": {},
   "source": [
    "## Step 5 利用訓練好的模型預測資料: Model Predict New Data"
   ]
  },
  {
   "cell_type": "code",
   "execution_count": 4,
   "metadata": {
    "collapsed": true
   },
   "outputs": [
    {
     "name": "stdout",
     "output_type": "stream",
     "text": [
      "[[5.]] [56.]\n"
     ]
    },
    {
     "data": {
      "text/plain": [
       "<function matplotlib.pyplot.show(*args, **kw)>"
      ]
     },
     "execution_count": 4,
     "metadata": {},
     "output_type": "execute_result"
    },
    {
     "data": {
      "image/png": "[encoded data removed]",
      "text/plain": [
       "<Figure size 432x288 with 1 Axes>"
      ]
     },
     "metadata": {
      "needs_background": "light"
     },
     "output_type": "display_data"
    }
   ],
   "source": [
    "#.predict預測\n",
    "#用好的資料訓練的model\n",
    "testy=model.predict(testx)\n",
    "\n",
    "#把預測的值寫進y欄位\n",
    "test['y']=testy\n",
    "\n",
    "'''\n",
    "#用壞的資料\n",
    "testy2=model2.predict(testx)\n",
    "#把預測的值寫進y欄位\n",
    "test['y']=testy2\n",
    "'''\n",
    "\n",
    "a=float(model.coef_)#斜率\n",
    "b=float(model.intercept_)#截距\n",
    "print(model.coef_,model.intercept_);#[[5.]] [56.]\n",
    "\n",
    "_x=[]\n",
    "_y=[]\n",
    "import numpy as np\n",
    "for  i in range(0,1000,10):\n",
    "    _x.append(i)\n",
    "    _y.append(a*i+b)\n",
    "\n",
    "plt.scatter(x2,y2)\n",
    "plt.plot(_x,_y,color='blue',linewidth=3)\n",
    "plt.show\n",
    "\n"
   ]
  },
  {
   "cell_type": "markdown",
   "metadata": {},
   "source": [
    "## Step 4 評估模型: Evaluate Model"
   ]
  },
  {
   "cell_type": "code",
   "execution_count": 5,
   "metadata": {},
   "outputs": [
    {
     "name": "stdout",
     "output_type": "stream",
     "text": [
      "score: 1.0\n",
      "mse= 5196632.720588235\n",
      "r2= -1.0255341217260443\n",
      "score2: 0.9591019798799569\n"
     ]
    }
   ],
   "source": [
    "from sklearn.metrics import mean_squared_error, r2_score\n",
    "\n",
    "testy=model.predict(testx)\n",
    "#透過.score方法返回判定係數評估模型好不好(1較好)\n",
    "score=model.score(x,y)\n",
    "\n",
    "print('score:',score)#1.0\n",
    "print('mse=',mean_squared_error(testy,y))\n",
    "print('r2=',r2_score(testy,y))\n",
    "\n",
    "score2=model2.score(x2,y2)\n",
    "print('score2:',score2)#0.9591019798799569"
   ]
  },
  {
   "cell_type": "code",
   "execution_count": 6,
   "metadata": {},
   "outputs": [
    {
     "data": {
      "text/plain": [
       "\"\\nimport matplotlib.pyplot as plt\\n%matplotlib inline\\n\\nplt.scatter(x, y,  color='blue')\\nplt.plot(x, testy, color='red', linewidth=2)\\n\\nplt.xticks(())\\nplt.yticks(())\\n\\nplt.show()\\n\""
      ]
     },
     "execution_count": 6,
     "metadata": {},
     "output_type": "execute_result"
    }
   ],
   "source": [
    "# 視覺化資料plot data\n",
    "\n",
    "'''\n",
    "import matplotlib.pyplot as plt\n",
    "%matplotlib inline\n",
    "\n",
    "plt.scatter(x, y,  color='blue')\n",
    "plt.plot(x, testy, color='red', linewidth=2)\n",
    "\n",
    "plt.xticks(())\n",
    "plt.yticks(())\n",
    "\n",
    "plt.show()\n",
    "'''"
   ]
  },
  {
   "cell_type": "markdown",
   "metadata": {},
   "source": [
    "## (optional) Step 6 把預測資料寫進檔案: Write Back"
   ]
  },
  {
   "cell_type": "code",
   "execution_count": 7,
   "metadata": {},
   "outputs": [],
   "source": [
    "test.to_csv('predict_result.csv',index=False, mode='w')"
   ]
  },
  {
   "cell_type": "code",
   "execution_count": 8,
   "metadata": {},
   "outputs": [],
   "source": [
    "import pickle\n",
    "# pickle a variable to a file\n",
    "\n",
    "with open('test.pickle', 'wb') as file:\n",
    "    pickle.dump(test, file)\n"
   ]
  },
  {
   "cell_type": "code",
   "execution_count": 9,
   "metadata": {},
   "outputs": [
    {
     "data": {
      "text/html": [
       "<div>\n",
       "<style scoped>\n",
       "    .dataframe tbody tr th:only-of-type {\n",
       "        vertical-align: middle;\n",
       "    }\n",
       "\n",
       "    .dataframe tbody tr th {\n",
       "        vertical-align: top;\n",
       "    }\n",
       "\n",
       "    .dataframe thead th {\n",
       "        text-align: right;\n",
       "    }\n",
       "</style>\n",
       "<table border=\"1\" class=\"dataframe\">\n",
       "  <thead>\n",
       "    <tr style=\"text-align: right;\">\n",
       "      <th></th>\n",
       "      <th>x</th>\n",
       "      <th>y</th>\n",
       "    </tr>\n",
       "  </thead>\n",
       "  <tbody>\n",
       "    <tr>\n",
       "      <th>0</th>\n",
       "      <td>765</td>\n",
       "      <td>3881.0</td>\n",
       "    </tr>\n",
       "    <tr>\n",
       "      <th>1</th>\n",
       "      <td>212</td>\n",
       "      <td>1116.0</td>\n",
       "    </tr>\n",
       "    <tr>\n",
       "      <th>2</th>\n",
       "      <td>235</td>\n",
       "      <td>1231.0</td>\n",
       "    </tr>\n",
       "    <tr>\n",
       "      <th>3</th>\n",
       "      <td>654</td>\n",
       "      <td>3326.0</td>\n",
       "    </tr>\n",
       "    <tr>\n",
       "      <th>4</th>\n",
       "      <td>476</td>\n",
       "      <td>2436.0</td>\n",
       "    </tr>\n",
       "  </tbody>\n",
       "</table>\n",
       "</div>"
      ],
      "text/plain": [
       "     x       y\n",
       "0  765  3881.0\n",
       "1  212  1116.0\n",
       "2  235  1231.0\n",
       "3  654  3326.0\n",
       "4  476  2436.0"
      ]
     },
     "execution_count": 9,
     "metadata": {},
     "output_type": "execute_result"
    }
   ],
   "source": [
    "# reload a file to a variable\n",
    "\n",
    "with open('test.pickle', 'rb') as file:\n",
    "    test_b =pickle.load(file)\n",
    "\n",
    "test_b.head()"
   ]
  }
 ],
 "metadata": {
  "kernelspec": {
   "display_name": "Python 3",
   "language": "python",
   "name": "python3"
  },
  "language_info": {
   "codemirror_mode": {
    "name": "ipython",
    "version": 3
   },
   "file_extension": ".py",
   "mimetype": "text/x-python",
   "name": "python",
   "nbconvert_exporter": "python",
   "pygments_lexer": "ipython3",
   "version": "3.7.3"
  }
 },
 "nbformat": 4,
 "nbformat_minor": 2
}
